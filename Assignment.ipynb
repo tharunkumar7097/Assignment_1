{
 "cells": [
  {
   "attachments": {},
   "cell_type": "markdown",
   "metadata": {},
   "source": [
    "1)Program to calculate the total invoice bill of the given Books"
   ]
  },
  {
   "cell_type": "code",
   "execution_count": 9,
   "metadata": {},
   "outputs": [
    {
     "name": "stdout",
     "output_type": "stream",
     "text": [
      "Enter the name of the book:\n",
      "Taxes and additional charges are describred below\n",
      "GST= 0.12\n",
      "Delivery charge: Rs 250\n",
      "GST Amount: 72.0\n",
      "Total Amount including  GST and Delivery Charges: 922.0\n"
     ]
    }
   ],
   "source": [
    "n=int(input(\"How many Books do you want:\"))\n",
    "total=0\n",
    "for i in range(1,n+1):\n",
    "    print(\"Enter the name of the book:\")\n",
    "    name=input()\n",
    "    price=float(input(\"Enter the price of the book_{}: Rs\".format(i)))\n",
    "    number=int(input(\"Number of {} books :\".format(name)))\n",
    "    total+=(price*number)\n",
    "print(\"Taxes and additional charges are describred below\")\n",
    "GST=0.12\n",
    "print(\"GST=\",GST)\n",
    "delivery_charges=250\n",
    "print(\"Delivery charge: Rs\",delivery_charges)\n",
    "total_GST=total*GST\n",
    "print(\"GST Amount:\",(total_GST))\n",
    "print(\"Total Amount including  GST and Delivery Charges:\",(total+total_GST+delivery_charges))\n"
   ]
  },
  {
   "cell_type": "code",
   "execution_count": 10,
   "metadata": {},
   "outputs": [
    {
     "name": "stdout",
     "output_type": "stream",
     "text": [
      "Introduction to Python Programming price is : Rs 499\n",
      "Python libraries cookbook price is : Rs 855\n",
      "Introduction to data science price is : Rs 645\n",
      "Enter the taxes and  additional expences\n",
      "GST : 12 %\n",
      "Delivery Charges : Rs 250\n",
      "Total invoice bill including GST and Delivery charges : Rs 2488.88\n"
     ]
    }
   ],
   "source": [
    "class Books:\n",
    "    def __init__(self,name,price,number):\n",
    "        self.name=name\n",
    "        self.price=price\n",
    "        self.number=number\n",
    "    def book(self):\n",
    "        print(\"Enter the taxes and  additional expences\")\n",
    "my_book=Books(\"Introduction to Python Programming\",499,1)\n",
    "print(my_book.name,\"price is : Rs\",my_book.price)\n",
    "sum_1=my_book.price*my_book.number\n",
    "\n",
    "my_book=Books(\"Python libraries cookbook\",855,1)\n",
    "print(my_book.name,\"price is : Rs\",my_book.price)\n",
    "sum_2=my_book.price*my_book.number\n",
    "\n",
    "my_book=Books(\"Introduction to data science\",645,1)\n",
    "print(my_book.name,\"price is : Rs\",my_book.price)\n",
    "sum_3=my_book.price*my_book.number\n",
    "\n",
    "my_book.book()\n",
    "print(\"GST : 12 %\")\n",
    "GST=0.12\n",
    "Delivery_charges=250\n",
    "print(\"Delivery Charges : Rs\",Delivery_charges)\n",
    "total=sum_1+sum_2+sum_3\n",
    "print(\"Total invoice bill including GST and Delivery charges : Rs\",total+(total*GST)+Delivery_charges)"
   ]
  },
  {
   "attachments": {},
   "cell_type": "markdown",
   "metadata": {},
   "source": [
    "2)Program to print unique characters from the given Strind"
   ]
  },
  {
   "cell_type": "code",
   "execution_count": 12,
   "metadata": {},
   "outputs": [
    {
     "name": "stdout",
     "output_type": "stream",
     "text": [
      "Unique Characters of the String:\n",
      "h,e,l,o,r,"
     ]
    }
   ],
   "source": [
    "def unique_values(str):\n",
    "    print(\"Unique Characters of the String:\")\n",
    "    for i in str:\n",
    "        if i not in b:\n",
    "            b.append(i)\n",
    "            print(i,end=\",\")\n",
    "unique_values(input(\"Enter the string:\"))\n",
    "b=[]"
   ]
  },
  {
   "cell_type": "code",
   "execution_count": 14,
   "metadata": {},
   "outputs": [
    {
     "name": "stdout",
     "output_type": "stream",
     "text": [
      "Unique characters:\n",
      "h,e,l,o,r,"
     ]
    }
   ],
   "source": [
    "a=input(\"Enter a String :\")\n",
    "print(\"Unique characters:\")\n",
    "b=[]\n",
    "for i in a:\n",
    "    if i not in b:\n",
    "        b.append(i)\n",
    "        print(i,end=\",\")"
   ]
  }
 ],
 "metadata": {
  "kernelspec": {
   "display_name": "Python 3",
   "language": "python",
   "name": "python3"
  },
  "language_info": {
   "codemirror_mode": {
    "name": "ipython",
    "version": 3
   },
   "file_extension": ".py",
   "mimetype": "text/x-python",
   "name": "python",
   "nbconvert_exporter": "python",
   "pygments_lexer": "ipython3",
   "version": "3.10.11"
  },
  "orig_nbformat": 4
 },
 "nbformat": 4,
 "nbformat_minor": 2
}
